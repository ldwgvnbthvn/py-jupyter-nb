{
 "cells": [
  {
   "cell_type": "markdown",
   "id": "cca11c7c",
   "metadata": {},
   "source": [
    "# secant_method\n",
    "+ url https://mermaid.js.org/config/Tutorials.html"
   ]
  },
  {
   "cell_type": "code",
   "execution_count": 1,
   "id": "ccfc4302",
   "metadata": {},
   "outputs": [
    {
     "data": {
      "text/html": [
       "<img src=\"https://mermaid.ink/img/CmdyYXBoIFRECiAgICBCIC0tPiBJIC0tPiBQMSAtLT4gbzEgLS0+IFAyIC0tPiBQMwogICAgUDMgLS0+IFA0IC0tPiBQNSAtLT4gQwogICAgQyAtLSJZIi0tPiBPIC0tPiBFCiAgICBDIC0tIk4iLS0+IFA2IC0tPiBvMQogICAgQihbIkJlZ2luIl0pCiAgICBJWy8ieDxzdWI+MDwvc3ViPiwgeDxzdWI+MTwvc3ViPiwgPGJyPmYoeCkiL10KICAgIFAxWyJpID0gMiJdCiAgICBQMlsiZicoeDxzdWI+aS0xPC9zdWI+KSA9IFtmKHg8c3ViPmktMTwvc3ViPikgJm1kYXNoOyBmKHg8c3ViPmktMjwvc3ViPildPGJyPiAgICAgIC8gKHg8c3ViPmktMTwvc3ViPiAmbWRhc2g7IHg8c3ViPmktMjwvc3ViPikiXQogICAgUDNbIiZEZWx0YTt4ID0gZih4PHN1Yj5pLTE8L3N1Yj4pIC8gZicoeDxzdWI+aS0xPC9zdWI+KSJdCiAgICBQNFsieDxzdWI+aTwvc3ViPiA9IHg8c3ViPmktMTwvc3ViPiAgICAgICZtZGFzaDsgJkRlbHRhO3giXQogICAgUDVbIiZlcHNpbG9uOyA9IHxmKHg8c3ViPmk8L3N1Yj4pfCJdCiAgICBDeyImZXBzaWxvbjsgJmxlOyAmZXBzaWxvbjs8c3ViPm1heDwvc3ViPiJ9CiAgICBQNlsiaSA9IGkgKyAxIl0KICAgIEUoWyJFbmQiXSkKICAgIG8xKCgiICIpKQogICAgT1svIng8c3ViPmk8L3N1Yj4iL10K?!white\"/>"
      ],
      "text/plain": [
       "<IPython.core.display.Image object>"
      ]
     },
     "metadata": {},
     "output_type": "display_data"
    }
   ],
   "source": [
    "import base64\n",
    "from IPython.display import Image, display\n",
    "import matplotlib.pyplot as plt\n",
    "import ipynb.fs.full.mermaid as mm\n",
    "\n",
    "g = \"\"\"\n",
    "graph TD\n",
    "    B --> I --> P1 --> o1 --> P2 --> P3\n",
    "    P3 --> P4 --> P5 --> C\n",
    "    C --\"Y\"--> O --> E\n",
    "    C --\"N\"--> P6 --> o1\n",
    "    B([\"Begin\"])\n",
    "    I[/\"x<sub>0</sub>, x<sub>1</sub>, <br>f(x)\"/]\n",
    "    P1[\"i = 2\"]\n",
    "    P2[\"f'(x<sub>i-1</sub>) = [f(x<sub>i-1</sub>) &mdash; f(x<sub>i-2</sub>)]<br>\\\n",
    "      / (x<sub>i-1</sub> &mdash; x<sub>i-2</sub>)\"]\n",
    "    P3[\"&Delta;x = f(x<sub>i-1</sub>) / f'(x<sub>i-1</sub>)\"]\n",
    "    P4[\"x<sub>i</sub> = x<sub>i-1</sub>\\\n",
    "      &mdash; &Delta;x\"]\n",
    "    P5[\"&epsilon; = |f(x<sub>i</sub>)|\"]\n",
    "    C{\"&epsilon; &le; &epsilon;<sub>max</sub>\"}\n",
    "    P6[\"i = i + 1\"]\n",
    "    E([\"End\"])\n",
    "    o1((\" \"))\n",
    "    O[/\"x<sub>i</sub>\"/]\n",
    "\"\"\"\n",
    "mm.mermaid(g)"
   ]
  },
  {
   "cell_type": "code",
   "execution_count": null,
   "id": "fce427fe",
   "metadata": {},
   "outputs": [],
   "source": []
  }
 ],
 "metadata": {
  "authors": [
   {
    "name": "Sparisoma Viridi"
   }
  ],
  "kernelspec": {
   "display_name": "Python 3 (ipykernel)",
   "language": "python",
   "name": "python3"
  },
  "language_info": {
   "codemirror_mode": {
    "name": "ipython",
    "version": 3
   },
   "file_extension": ".py",
   "mimetype": "text/x-python",
   "name": "python",
   "nbconvert_exporter": "python",
   "pygments_lexer": "ipython3",
   "version": "3.11.2"
  },
  "title": "secant_method"
 },
 "nbformat": 4,
 "nbformat_minor": 5
}
