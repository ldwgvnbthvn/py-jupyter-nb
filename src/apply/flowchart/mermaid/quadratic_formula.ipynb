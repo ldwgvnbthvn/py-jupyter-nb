{
 "cells": [
  {
   "cell_type": "markdown",
   "id": "cca11c7c",
   "metadata": {},
   "source": [
    "# quadratic_formula\n",
    "+ url https://mermaid.js.org/config/Tutorials.html"
   ]
  },
  {
   "cell_type": "code",
   "execution_count": 1,
   "id": "ccfc4302",
   "metadata": {},
   "outputs": [
    {
     "data": {
      "text/html": [
       "<img src=\"https://mermaid.ink/img/CmdyYXBoIExSCiAgICBCIC0tPiBJIC0tPiBQMSAtLT4gUDJhICYgUDJiIC0tPiBPIC0tPiBFCiAgICBCKFsiQmVnaW4iXSkKICAgIElbImEsIGIsIGMiXQogICAgUDFbIkQgPSBiXjIgLSA0KmEqYyJdCiAgICBQMmFbIngxID0gKC1iIC0gRF4wLjUpIC8gKDJhKSJdCiAgICBQMmJbIngyID0gKC1iICsgRF4wLjUpIC8gKDJhKSJdCiAgICBPWyJ4MSwgeDIiXQogICAgRShbIkVuZCJdKQo=?!white\"/>"
      ],
      "text/plain": [
       "<IPython.core.display.Image object>"
      ]
     },
     "metadata": {},
     "output_type": "display_data"
    }
   ],
   "source": [
    "import base64\n",
    "from IPython.display import Image, display\n",
    "import matplotlib.pyplot as plt\n",
    "import ipynb.fs.full.mermaid as mm\n",
    "\n",
    "g = \"\"\"\n",
    "graph LR\n",
    "    B --> I --> P1 --> P2a & P2b --> O --> E\n",
    "    B([\"Begin\"])\n",
    "    I[\"a, b, c\"]\n",
    "    P1[\"D = b^2 - 4*a*c\"]\n",
    "    P2a[\"x1 = (-b - D^0.5) / (2a)\"]\n",
    "    P2b[\"x2 = (-b + D^0.5) / (2a)\"]\n",
    "    O[\"x1, x2\"]\n",
    "    E([\"End\"])\n",
    "\"\"\"\n",
    "mm.mermaid(g)"
   ]
  },
  {
   "cell_type": "code",
   "execution_count": null,
   "id": "fce427fe",
   "metadata": {},
   "outputs": [],
   "source": []
  }
 ],
 "metadata": {
  "authors": [
   {
    "name": "Sparisoma Viridi"
   }
  ],
  "kernelspec": {
   "display_name": "Python 3 (ipykernel)",
   "language": "python",
   "name": "python3"
  },
  "language_info": {
   "codemirror_mode": {
    "name": "ipython",
    "version": 3
   },
   "file_extension": ".py",
   "mimetype": "text/x-python",
   "name": "python",
   "nbconvert_exporter": "python",
   "pygments_lexer": "ipython3",
   "version": "3.11.2"
  },
  "title": "quadratic_formula"
 },
 "nbformat": 4,
 "nbformat_minor": 5
}
