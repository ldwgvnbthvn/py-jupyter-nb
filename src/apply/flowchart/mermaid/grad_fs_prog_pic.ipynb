{
 "cells": [
  {
   "cell_type": "markdown",
   "id": "cca11c7c",
   "metadata": {},
   "source": [
    "# grad_fs_prog_pic\n",
    "+ url https://mermaid.js.org/config/Tutorials.html"
   ]
  },
  {
   "cell_type": "code",
   "execution_count": 4,
   "id": "c3e1b67e",
   "metadata": {},
   "outputs": [
    {
     "data": {
      "text/html": [
       "<style>.container { width:100% !important; }</style>"
      ],
      "text/plain": [
       "<IPython.core.display.HTML object>"
      ]
     },
     "metadata": {},
     "output_type": "display_data"
    }
   ],
   "source": [
    "# url https://stackoverflow.com/a/34058270/9475509\n",
    "from IPython.display import display, HTML\n",
    "display(HTML(\"<style>.container { width:100% !important; }</style>\"))"
   ]
  },
  {
   "cell_type": "code",
   "execution_count": 67,
   "id": "ea02af6a",
   "metadata": {},
   "outputs": [
    {
     "data": {
      "text/html": [
       "<img src=\"https://mermaid.ink/img/CmZsb3djaGFydCBMUgogICAgRDAgLS4tIEQxICYgRDIKICAgIFdEQTAgLS4tIFdEQTEgJiBXREEyCiAgICBXRFMwIC0uLSBXRFMxICYgV0RTMgogICAgc3ViZ3JhcGggU1BTIFsiU1BTIl0KICAgICAgICBkaXJlY3Rpb24gVEIKICAgICAgICBEMCAmIFdEQTAgJiBXRFMwCiAgICBlbmQKICAgIHN1YmdyYXBoIEZTMiBbIkYvUyAyIl0KICAgICAgICBkaXJlY3Rpb24gVEIKICAgICAgICBEMiAmIFdEQTIgJiBXRFMyCiAgICBlbmQKICAgIHN1YmdyYXBoIEZTMSBbIkYvUyAxIl0KICAgICAgICBkaXJlY3Rpb24gVEIKICAgICAgICBEMSAmIFdEQTEgJiBXRFMxCiAgICBlbmQK?!white\"/>"
      ],
      "text/plain": [
       "<IPython.core.display.Image object>"
      ]
     },
     "metadata": {},
     "output_type": "display_data"
    }
   ],
   "source": [
    "\n",
    "import base64\n",
    "from IPython.display import Image, display\n",
    "import matplotlib.pyplot as plt\n",
    "import ipynb.fs.full.mermaid as mm\n",
    "\n",
    "g = \"\"\"\n",
    "flowchart LR\n",
    "    D0 -.- D1 & D2\n",
    "    WDA0 -.- WDA1 & WDA2\n",
    "    WDS0 -.- WDS1 & WDS2\n",
    "    subgraph SPS [\"SPS\"]\n",
    "        direction TB\n",
    "        D0 & WDA0 & WDS0\n",
    "    end\n",
    "    subgraph FS2 [\"F/S 2\"]\n",
    "        direction TB\n",
    "        D2 & WDA2 & WDS2\n",
    "    end\n",
    "    subgraph FS1 [\"F/S 1\"]\n",
    "        direction TB\n",
    "        D1 & WDA1 & WDS1\n",
    "    end\n",
    "\"\"\"\n",
    "mm.mermaid(g)"
   ]
  },
  {
   "cell_type": "code",
   "execution_count": 72,
   "id": "ccfc4302",
   "metadata": {},
   "outputs": [
    {
     "data": {
      "text/html": [
       "<img src=\"https://mermaid.ink/img/CmZsb3djaGFydCBMUgogICAgJSVTUFMgLS4tIEZTMSAtLi0gRlMyCiAgICBQSUMxICYgUElDMiA8LS4tPiBQSUMwCiAgICBzdWJncmFwaCBTUFMgWyJTUFMiXQogICAgICAgIGRpcmVjdGlvbiBUQgogICAgICAgIEQwICYgV0RBMCAmIFdEUzAgLS0+IFBJQzAKICAgIGVuZAogICAgc3ViZ3JhcGggRlMxIFsiRi9TIDEiXQogICAgICAgIGRpcmVjdGlvbiBUQgogICAgICAgIEQxICYgV0RBMSAmIFdEUzEgLS0+IFBJQzEKICAgIGVuZAogICAgc3ViZ3JhcGggRlMyIFsiRi9TIDIiXQogICAgICAgIGRpcmVjdGlvbiBUQgogICAgICAgIEQyICYgV0RBMiAmIFdEUzIgLS0+IFBJQzIKICAgIGVuZAo=?!white\"/>"
      ],
      "text/plain": [
       "<IPython.core.display.Image object>"
      ]
     },
     "metadata": {},
     "output_type": "display_data"
    }
   ],
   "source": [
    "\n",
    "import base64\n",
    "from IPython.display import Image, display\n",
    "import matplotlib.pyplot as plt\n",
    "import ipynb.fs.full.mermaid as mm\n",
    "\n",
    "g = \"\"\"\n",
    "flowchart LR\n",
    "    %%SPS -.- FS1 -.- FS2\n",
    "    PIC1 & PIC2 <-.-> PIC0\n",
    "    subgraph SPS [\"SPS\"]\n",
    "        direction TB\n",
    "        D0 & WDA0 & WDS0 --> PIC0\n",
    "    end\n",
    "    subgraph FS1 [\"F/S 1\"]\n",
    "        direction TB\n",
    "        D1 & WDA1 & WDS1 --> PIC1\n",
    "    end\n",
    "    subgraph FS2 [\"F/S 2\"]\n",
    "        direction TB\n",
    "        D2 & WDA2 & WDS2 --> PIC2\n",
    "    end\n",
    "\"\"\"\n",
    "mm.mermaid(g)"
   ]
  },
  {
   "cell_type": "code",
   "execution_count": null,
   "id": "c23c9a49",
   "metadata": {},
   "outputs": [],
   "source": []
  }
 ],
 "metadata": {
  "authors": [
   {
    "name": "Sparisoma Viridi"
   }
  ],
  "kernelspec": {
   "display_name": "Python 3 (ipykernel)",
   "language": "python",
   "name": "python3"
  },
  "language_info": {
   "codemirror_mode": {
    "name": "ipython",
    "version": 3
   },
   "file_extension": ".py",
   "mimetype": "text/x-python",
   "name": "python",
   "nbconvert_exporter": "python",
   "pygments_lexer": "ipython3",
   "version": "3.11.2"
  },
  "title": "grad_fs_prog_pic"
 },
 "nbformat": 4,
 "nbformat_minor": 5
}
