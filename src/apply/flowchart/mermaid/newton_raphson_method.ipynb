{
 "cells": [
  {
   "cell_type": "markdown",
   "id": "cca11c7c",
   "metadata": {},
   "source": [
    "# newton_raphson_method\n",
    "+ url https://mermaid.js.org/config/Tutorials.html"
   ]
  },
  {
   "cell_type": "code",
   "execution_count": 2,
   "id": "ccfc4302",
   "metadata": {},
   "outputs": [
    {
     "data": {
      "text/html": [
       "<img src=\"https://mermaid.ink/img/CmdyYXBoIFRECiAgICBCIC0tPiBJIC0tPiBQMSAtLT4gbzEgLS0+IFAyIC0tPiBQMwogICAgUDMgLS0+IFA0IC0tPiBDCiAgICBDIC0tIlkiLS0+IE8gLS0+IEUKICAgIEMgLS0iTiItLT4gUDUgLS0+IG8xCiAgICBCKFsiQmVnaW4iXSkKICAgIElbLyJ4PHN1Yj4wPC9zdWI+LCBmKHgpLCA8YnI+ZicoeCksICAgICAgJmVwc2lsb247PHN1Yj5tYXg8L3N1Yj4iL10KICAgIFAxWyJpID0gMSJdCiAgICBQMlsiJkRlbHRhO3ggPSBmKHg8c3ViPmktMTwvc3ViPik8YnI+ICAgICAgJm5ic3A7Jm5ic3A7Jm5ic3A7Jm5ic3A7Jm5ic3A7LyAgICAgIGYnKHg8c3ViPmktMTwvc3ViPikiXQogICAgUDNbIng8c3ViPmk8L3N1Yj4gPSB4PHN1Yj5pLTE8L3N1Yj4gICAgICAmbWRhc2g7ICZEZWx0YTt4Il0KICAgIFA0WyImZXBzaWxvbjsgPSB8Zih4PHN1Yj5pPC9zdWI+KXwiXQogICAgQ3siJmVwc2lsb247ICZsZTsgJmVwc2lsb247PHN1Yj5tYXg8L3N1Yj4ifQogICAgUDVbImkgPSBpICsgMSJdCiAgICBFKFsiRW5kIl0pCiAgICBvMSgoIiAiKSkKICAgIE9bLyJ4PHN1Yj5pPC9zdWI+Ii9dCg==?!white\"/>"
      ],
      "text/plain": [
       "<IPython.core.display.Image object>"
      ]
     },
     "metadata": {},
     "output_type": "display_data"
    }
   ],
   "source": [
    "import base64\n",
    "from IPython.display import Image, display\n",
    "import matplotlib.pyplot as plt\n",
    "import ipynb.fs.full.mermaid as mm\n",
    "\n",
    "g = \"\"\"\n",
    "graph TD\n",
    "    B --> I --> P1 --> o1 --> P2 --> P3\n",
    "    P3 --> P4 --> C\n",
    "    C --\"Y\"--> O --> E\n",
    "    C --\"N\"--> P5 --> o1\n",
    "    B([\"Begin\"])\n",
    "    I[/\"x<sub>0</sub>, f(x), <br>f'(x),\\\n",
    "      &epsilon;<sub>max</sub>\"/]\n",
    "    P1[\"i = 1\"]\n",
    "    P2[\"&Delta;x = f(x<sub>i-1</sub>)<br>\\\n",
    "      &nbsp;&nbsp;&nbsp;&nbsp;&nbsp;/\\\n",
    "      f'(x<sub>i-1</sub>)\"]\n",
    "    P3[\"x<sub>i</sub> = x<sub>i-1</sub>\\\n",
    "      &mdash; &Delta;x\"]\n",
    "    P4[\"&epsilon; = |f(x<sub>i</sub>)|\"]\n",
    "    C{\"&epsilon; &le; &epsilon;<sub>max</sub>\"}\n",
    "    P5[\"i = i + 1\"]\n",
    "    E([\"End\"])\n",
    "    o1((\" \"))\n",
    "    O[/\"x<sub>i</sub>\"/]\n",
    "\"\"\"\n",
    "mm.mermaid(g)"
   ]
  },
  {
   "cell_type": "code",
   "execution_count": null,
   "id": "fce427fe",
   "metadata": {},
   "outputs": [],
   "source": []
  }
 ],
 "metadata": {
  "authors": [
   {
    "name": "Sparisoma Viridi"
   }
  ],
  "kernelspec": {
   "display_name": "Python 3 (ipykernel)",
   "language": "python",
   "name": "python3"
  },
  "language_info": {
   "codemirror_mode": {
    "name": "ipython",
    "version": 3
   },
   "file_extension": ".py",
   "mimetype": "text/x-python",
   "name": "python",
   "nbconvert_exporter": "python",
   "pygments_lexer": "ipython3",
   "version": "3.11.2"
  },
  "title": "newton_raphson_method"
 },
 "nbformat": 4,
 "nbformat_minor": 5
}
