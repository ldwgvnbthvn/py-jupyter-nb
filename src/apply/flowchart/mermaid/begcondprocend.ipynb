{
 "cells": [
  {
   "cell_type": "markdown",
   "id": "cca11c7c",
   "metadata": {},
   "source": [
    "# begcondprocend\n",
    "+ url https://mermaid.js.org/config/Tutorials.html"
   ]
  },
  {
   "cell_type": "code",
   "execution_count": 1,
   "id": "ccfc4302",
   "metadata": {},
   "outputs": [
    {
     "data": {
      "text/html": [
       "<img src=\"https://mermaid.ink/img/CmdyYXBoIExSCiAgICBBIC0tPiBCIC0tIlkiLS0+IEMKICAgIEIgLS0iTiItLT4gRAogICAgQyAmIEQgLS0+IEUKICAgIEEoWyJCZWdpbiJdKQogICAgQnsiQ29uZGl0aW9uPyJ9CiAgICBDWyJQcm9jZXNzIDEiXQogICAgRFsiUHJvY2VzcyAyIl0KICAgIEUoWyJFbmQiXSkK?!white\"/>"
      ],
      "text/plain": [
       "<IPython.core.display.Image object>"
      ]
     },
     "metadata": {},
     "output_type": "display_data"
    }
   ],
   "source": [
    "import base64\n",
    "from IPython.display import Image, display\n",
    "import matplotlib.pyplot as plt\n",
    "import ipynb.fs.full.mermaid as mm\n",
    "\n",
    "g = \"\"\"\n",
    "graph LR\n",
    "    A --> B --\"Y\"--> C\n",
    "    B --\"N\"--> D\n",
    "    C & D --> E\n",
    "    A([\"Begin\"])\n",
    "    B{\"Condition?\"}\n",
    "    C[\"Process 1\"]\n",
    "    D[\"Process 2\"]\n",
    "    E([\"End\"])\n",
    "\"\"\"\n",
    "mm.mermaid(g)"
   ]
  },
  {
   "cell_type": "code",
   "execution_count": null,
   "id": "335c1ab9",
   "metadata": {},
   "outputs": [],
   "source": []
  }
 ],
 "metadata": {
  "authors": [
   {
    "name": "Sparisoma Viridi"
   }
  ],
  "kernelspec": {
   "display_name": "Python 3 (ipykernel)",
   "language": "python",
   "name": "python3"
  },
  "language_info": {
   "codemirror_mode": {
    "name": "ipython",
    "version": 3
   },
   "file_extension": ".py",
   "mimetype": "text/x-python",
   "name": "python",
   "nbconvert_exporter": "python",
   "pygments_lexer": "ipython3",
   "version": "3.10.10"
  },
  "title": "begcondprocend"
 },
 "nbformat": 4,
 "nbformat_minor": 5
}
